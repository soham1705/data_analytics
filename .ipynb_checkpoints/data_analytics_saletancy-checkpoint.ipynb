{
 "cells": [
  {
   "cell_type": "markdown",
   "metadata": {},
   "source": [
    "## Reading files and concatenating"
   ]
  },
  {
   "cell_type": "code",
   "execution_count": 500,
   "metadata": {},
   "outputs": [],
   "source": [
    "import pandas as pd\n",
    "import numpy as np\n",
    "import matplotlib.pyplot as plt\n",
    "import os"
   ]
  },
  {
   "cell_type": "code",
   "execution_count": 100,
   "metadata": {},
   "outputs": [],
   "source": [
    "all_files=[]\n",
    "all_file_names=[]"
   ]
  },
  {
   "cell_type": "code",
   "execution_count": 101,
   "metadata": {},
   "outputs": [],
   "source": [
    "for folder,subfolder,files in os.walk('data'):\n",
    "    for file in files:\n",
    "        if file=='File left to be added.xlsx':\n",
    "            all_files.append(pd.read_excel('data/'+file,header=None))\n",
    "        else:\n",
    "            all_files.append(pd.read_excel('data/'+file))      \n",
    "        all_file_names.append(file)"
   ]
  },
  {
   "cell_type": "code",
   "execution_count": 234,
   "metadata": {},
   "outputs": [],
   "source": [
    "all_files[12]=all_files[12].rename(columns={'Phone 1':'Phone1','Phone 2':'Phone2','Mobile 1':'Mobile1','Mobile 2':'Mobile2'})"
   ]
  },
  {
   "cell_type": "code",
   "execution_count": 240,
   "metadata": {},
   "outputs": [],
   "source": [
    "files3to12=pd.concat(all_files[3:13])"
   ]
  },
  {
   "cell_type": "code",
   "execution_count": 248,
   "metadata": {},
   "outputs": [],
   "source": [
    "files3to12_17=pd.concat([files3to12,all_files[17]])"
   ]
  },
  {
   "cell_type": "code",
   "execution_count": 255,
   "metadata": {},
   "outputs": [],
   "source": [
    "files18to20=pd.concat(all_files[18:21])"
   ]
  },
  {
   "cell_type": "code",
   "execution_count": 271,
   "metadata": {},
   "outputs": [],
   "source": [
    "all_files[2]=all_files[2].rename(columns={'Add':'Address 1','Pin Code':'Pin'})"
   ]
  },
  {
   "cell_type": "code",
   "execution_count": 267,
   "metadata": {},
   "outputs": [],
   "source": [
    "files3to12_17=files3to12_17.rename(columns={'Email':'Email1'})"
   ]
  },
  {
   "cell_type": "code",
   "execution_count": 272,
   "metadata": {},
   "outputs": [],
   "source": [
    "files2to12_17=pd.concat([all_files[2],files3to12_17])"
   ]
  },
  {
   "cell_type": "code",
   "execution_count": 293,
   "metadata": {},
   "outputs": [],
   "source": [
    "files2to12_17['Contact Name']=files2to12_17['Title'].fillna('')+' '+files2to12_17['First Name'].fillna('')+' '+files2to12_17['Last Name'].fillna('')"
   ]
  },
  {
   "cell_type": "code",
   "execution_count": 299,
   "metadata": {},
   "outputs": [],
   "source": [
    "del files2to12_17['First Name']"
   ]
  },
  {
   "cell_type": "code",
   "execution_count": 300,
   "metadata": {},
   "outputs": [],
   "source": [
    "del files2to12_17['Last Name']\n",
    "del files2to12_17['Title']"
   ]
  },
  {
   "cell_type": "code",
   "execution_count": 308,
   "metadata": {},
   "outputs": [],
   "source": [
    "del all_files[13][6]"
   ]
  },
  {
   "cell_type": "code",
   "execution_count": 310,
   "metadata": {},
   "outputs": [],
   "source": [
    "del all_files[13][10]"
   ]
  },
  {
   "cell_type": "code",
   "execution_count": 312,
   "metadata": {},
   "outputs": [],
   "source": [
    "all_files[13].columns=['Id','Company Name','Address 1','City','State','Pin','Contact Name','Phone1','Designation','Mobile1']"
   ]
  },
  {
   "cell_type": "code",
   "execution_count": 315,
   "metadata": {},
   "outputs": [
    {
     "data": {
      "text/plain": [
       "Index([u'Id', u'Company Name', u'Address 1', u'City', u'State', u'Pin',\n",
       "       u'Contact Name', u'Phone1', u'Designation', u'Mobile1'],\n",
       "      dtype='object')"
      ]
     },
     "execution_count": 315,
     "metadata": {},
     "output_type": "execute_result"
    }
   ],
   "source": [
    "all_files[13].columns"
   ]
  },
  {
   "cell_type": "code",
   "execution_count": 316,
   "metadata": {},
   "outputs": [],
   "source": [
    "files2to13_17=pd.concat([files2to12_17,all_files[13]])"
   ]
  },
  {
   "cell_type": "code",
   "execution_count": 331,
   "metadata": {},
   "outputs": [],
   "source": [
    "all_files[0]['Company Name']=dict(all_files[0].index).values()"
   ]
  },
  {
   "cell_type": "code",
   "execution_count": 333,
   "metadata": {},
   "outputs": [],
   "source": [
    "all_files[0]['Id']=dict(all_files[0].index).keys()"
   ]
  },
  {
   "cell_type": "code",
   "execution_count": 338,
   "metadata": {},
   "outputs": [],
   "source": [
    "all_files[0].index=all_files[0]['Id']-1"
   ]
  },
  {
   "cell_type": "code",
   "execution_count": 342,
   "metadata": {},
   "outputs": [],
   "source": [
    "all_files[1]['Company Name']=dict(all_files[1].index).values()\n",
    "all_files[1]['Id']=dict(all_files[1].index).keys()\n",
    "all_files[1].index=all_files[1]['Id']-1"
   ]
  },
  {
   "cell_type": "code",
   "execution_count": 344,
   "metadata": {},
   "outputs": [],
   "source": [
    "all_files[14]['Company Name']=dict(all_files[14].index).values()\n",
    "all_files[14]['Id']=dict(all_files[14].index).keys()\n",
    "all_files[14].index=all_files[14]['Id']-1"
   ]
  },
  {
   "cell_type": "code",
   "execution_count": 352,
   "metadata": {},
   "outputs": [],
   "source": [
    "all_files[0]=all_files[0].rename(columns={'Unnamed: 10':'Assigned to'})"
   ]
  },
  {
   "cell_type": "code",
   "execution_count": 355,
   "metadata": {},
   "outputs": [],
   "source": [
    "files0_1_14=pd.concat([all_files[0],all_files[1],all_files[14]])"
   ]
  },
  {
   "cell_type": "code",
   "execution_count": 364,
   "metadata": {},
   "outputs": [],
   "source": [
    "all_files[15]=all_files[15].rename(columns={'S. No':'Id'})"
   ]
  },
  {
   "cell_type": "code",
   "execution_count": 366,
   "metadata": {},
   "outputs": [],
   "source": [
    "files0_1_14_15=pd.concat([files0_1_14,all_files[15]])"
   ]
  },
  {
   "cell_type": "code",
   "execution_count": 373,
   "metadata": {},
   "outputs": [],
   "source": [
    "del all_files[16]['ch']"
   ]
  },
  {
   "cell_type": "code",
   "execution_count": 388,
   "metadata": {},
   "outputs": [],
   "source": [
    "all_files[16]=all_files[16].rename(columns={'Add3':'Address 3','Add4':'Address 4','Phone':'Phone1','Email':'Email1','WebSite':'Web','ContactPerson':'Contact Name','BusinessDetails':'Business Details','businesstype':'Business Type'})"
   ]
  },
  {
   "cell_type": "code",
   "execution_count": 391,
   "metadata": {},
   "outputs": [],
   "source": [
    "files2to13_16_17=pd.concat([files2to13_17,all_files[16]])"
   ]
  },
  {
   "cell_type": "code",
   "execution_count": 414,
   "metadata": {},
   "outputs": [],
   "source": [
    "files0_1_14_15=files0_1_14_15.rename(columns={'Address':'Address 1','Email Id':'Email1','Fax Number':'Fax',\n",
    "                                              'Phone Number':'Phone1','State/Province':'State','Website':'Web',\n",
    "                                              'Zip/postal Code':'Pin','Direct Number':'Mobile1'})"
   ]
  },
  {
   "cell_type": "code",
   "execution_count": 404,
   "metadata": {},
   "outputs": [],
   "source": [
    "files18to20=files18to20.rename(columns={'Sr. No.':'Id','Address':'Address 1','State/Province':'State','Zip/postal Code':'Pin',\n",
    "                                       'Phone Number':'Phone1','Fax Number':'Fax','Website':'Web','Direct Number':'Mobile1',\n",
    "                                       'Email':'Email1'})"
   ]
  },
  {
   "cell_type": "code",
   "execution_count": 405,
   "metadata": {},
   "outputs": [],
   "source": [
    "files2to13_16to20=pd.concat([files18to20,files2to13_16_17])"
   ]
  },
  {
   "cell_type": "code",
   "execution_count": 415,
   "metadata": {},
   "outputs": [],
   "source": [
    "files_all=pd.concat([files0_1_14_15,files2to13_16to20])"
   ]
  },
  {
   "cell_type": "code",
   "execution_count": 477,
   "metadata": {},
   "outputs": [],
   "source": [
    "files_all=files_all.drop_duplicates(subset=['Email1','Company Name'])"
   ]
  },
  {
   "cell_type": "code",
   "execution_count": 470,
   "metadata": {},
   "outputs": [],
   "source": [
    "files_all=files_all.fillna('')"
   ]
  },
  {
   "cell_type": "code",
   "execution_count": 486,
   "metadata": {},
   "outputs": [],
   "source": [
    "del files_all['Id']"
   ]
  },
  {
   "cell_type": "code",
   "execution_count": 492,
   "metadata": {},
   "outputs": [],
   "source": [
    "files_all['State']=files_all['State'].str.lower()"
   ]
  },
  {
   "cell_type": "code",
   "execution_count": 494,
   "metadata": {},
   "outputs": [],
   "source": [
    "files_all['State']=files_all['State'].str.strip()"
   ]
  },
  {
   "cell_type": "code",
   "execution_count": 544,
   "metadata": {},
   "outputs": [],
   "source": [
    "files_all['Business Type']=files_all['Business Type'].str.lower()\n",
    "files_all['Business Type']=files_all['Business Type'].str.lower()"
   ]
  },
  {
   "cell_type": "code",
   "execution_count": 545,
   "metadata": {},
   "outputs": [],
   "source": [
    "files_all.to_csv('all.csv',encoding='utf-8')"
   ]
  },
  {
   "cell_type": "markdown",
   "metadata": {},
   "source": [
    "## Performing analytics"
   ]
  },
  {
   "cell_type": "markdown",
   "metadata": {},
   "source": [
    "### Ideas:\n",
    "Perform statewise no. of companies and visualise in bar/pie chart"
   ]
  },
  {
   "cell_type": "code",
   "execution_count": 583,
   "metadata": {},
   "outputs": [],
   "source": [
    "state=files_all.groupby('State').count()['Company Name'].sort_values(ascending=False)"
   ]
  },
  {
   "cell_type": "code",
   "execution_count": 592,
   "metadata": {},
   "outputs": [],
   "source": [
    "state=state.drop('')"
   ]
  },
  {
   "cell_type": "code",
   "execution_count": 594,
   "metadata": {},
   "outputs": [
    {
     "data": {
      "text/plain": [
       "<matplotlib.axes._subplots.AxesSubplot at 0x433a44a8>"
      ]
     },
     "execution_count": 594,
     "metadata": {},
     "output_type": "execute_result"
    },
    {
     "data": {
      "image/png": "[encoded data removed]",
      "text/plain": [
       "<matplotlib.figure.Figure at 0x433b8198>"
      ]
     },
     "metadata": {},
     "output_type": "display_data"
    }
   ],
   "source": [
    "plt.title('States with the most number of companies')\n",
    "state[0:7].plot(kind='bar')"
   ]
  },
  {
   "cell_type": "code",
   "execution_count": 548,
   "metadata": {},
   "outputs": [],
   "source": [
    "business_type=files_all.groupby('Business Type').count()['Company Name'].sort_values(ascending=False)"
   ]
  },
  {
   "cell_type": "code",
   "execution_count": 549,
   "metadata": {},
   "outputs": [
    {
     "data": {
      "text/plain": [
       "Business Type\n",
       "                                                 33051\n",
       "manufacturer, exporter                           17864\n",
       "services providers                                8857\n",
       "dealers                                           5115\n",
       "importer                                          1388\n",
       "manufacturer                                      1015\n",
       "architectures                                      741\n",
       "exporters                                          190\n",
       "manufacturers                                      162\n",
       "service provider                                   155\n",
       "dealer                                             133\n",
       "service provider, dealer                           100\n",
       "manufacturer and exporters                          85\n",
       "manufacturer & exporters                            79\n",
       "manufacturer and exporters                          76\n",
       "manufactures & exporters                            74\n",
       "distributor                                         60\n",
       "manufacturer  & exporters                           48\n",
       "trader                                              44\n",
       "manufacturer & exporter                             39\n",
       "agents                                              38\n",
       "manufacturer and suppliers                          29\n",
       "manufacturer & supplier                             28\n",
       "suppliers                                           26\n",
       "manufacturing                                       24\n",
       "distributors                                        23\n",
       "importers                                           23\n",
       "dealer, distributor                                 20\n",
       "manufacturer and exorters                           17\n",
       "manufacturer & suppliers                            16\n",
       "                                                 ...  \n",
       "manufacturing and supplying                          1\n",
       "manufacturing, exporting and supplying               1\n",
       "manufacturing, supplying and  exporting              1\n",
       "sale provider                                        1\n",
       "supplier & exporters                                 1\n",
       "trader, distributor                                  1\n",
       "traders, suppliers,distributors and stockiest        1\n",
       "manufacturer, importer & exporters                   1\n",
       "manufacturer, exporter & supplier                    1\n",
       "manufacturer, exporter & importer                    1\n",
       "manufacturer and dealer provider                     1\n",
       "manufacture                                          1\n",
       "manufacture & supplier                               1\n",
       "manufacturer &  distributor                          1\n",
       "manufacturer & dealer                                1\n",
       "manufacturer & exportes                              1\n",
       "manufacturer & service provider                      1\n",
       "manufacturer & stockists                             1\n",
       "manufacturer , supplier provider                     1\n",
       "trading                                              1\n",
       "manufacturer of tool                                 1\n",
       "manufacturer and distributor                         1\n",
       "manufacturer and distributor.                        1\n",
       "manufacturer and exporter                            1\n",
       "manufacturer and marketings                          1\n",
       "manufacturer and sale service                        1\n",
       "manufacturer and sell                                1\n",
       "manufacturer and traders                             1\n",
       "manufacturer distributors                            1\n",
       "manufacturer and designing                           1\n",
       "Name: Company Name, Length: 136, dtype: int64"
      ]
     },
     "execution_count": 549,
     "metadata": {},
     "output_type": "execute_result"
    }
   ],
   "source": [
    "business_type"
   ]
  },
  {
   "cell_type": "code",
   "execution_count": 582,
   "metadata": {},
   "outputs": [
    {
     "data": {
      "text/plain": [
       "<matplotlib.axes._subplots.AxesSubplot at 0x41647c88>"
      ]
     },
     "execution_count": 582,
     "metadata": {},
     "output_type": "execute_result"
    },
    {
     "data": {
      "image/png": "[encoded data removed]",
      "text/plain": [
       "<matplotlib.figure.Figure at 0x41215550>"
      ]
     },
     "metadata": {},
     "output_type": "display_data"
    }
   ],
   "source": [
    "plt.title('No. of Companies per Business Type')\n",
    "business_type[1:].plot(kind='pie',labels=list(business_type.index[1:7])+['']*len(business_type[7:]))"
   ]
  }
 ],
 "metadata": {
  "kernelspec": {
   "display_name": "Python [default]",
   "language": "python",
   "name": "python2"
  },
  "language_info": {
   "codemirror_mode": {
    "name": "ipython",
    "version": 2
   },
   "file_extension": ".py",
   "mimetype": "text/x-python",
   "name": "python",
   "nbconvert_exporter": "python",
   "pygments_lexer": "ipython2",
   "version": "2.7.14"
  }
 },
 "nbformat": 4,
 "nbformat_minor": 2
}
